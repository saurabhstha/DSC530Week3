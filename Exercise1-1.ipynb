{
 "cells": [
  {
   "cell_type": "code",
   "execution_count": 1,
   "metadata": {},
   "outputs": [
    {
     "name": "stdout",
     "output_type": "stream",
     "text": [
      "Hello World\n",
      "4\n",
      "2\n",
      "10\n",
      "2.0\n",
      "DSC 530is about data quality\n",
      "['hustle', 'life', 12, 3, 'break']\n",
      "('new', 'to', 'jupyter', 'notebook')\n"
     ]
    }
   ],
   "source": [
    "print(\"Hello World\")\n",
    "print(2 + 2)\n",
    "print(5 - 3)\n",
    "print(5 * 2)\n",
    "print(4/2)\n",
    "a = \"DSC 530\"\n",
    "b = \"is about data quality\"\n",
    "c = a + b\n",
    "print(c)\n",
    "d = [\"hustle\",\"life\",12,3]\n",
    "e = \"break\"\n",
    "d.append(e)\n",
    "print(d)\n",
    "f = (\"new\",\"to\", \"jupyter\",\"notebook\")\n",
    "print(f)"
   ]
  },
  {
   "cell_type": "code",
   "execution_count": null,
   "metadata": {},
   "outputs": [],
   "source": []
  }
 ],
 "metadata": {
  "kernelspec": {
   "display_name": "Python 3",
   "language": "python",
   "name": "python3"
  },
  "language_info": {
   "codemirror_mode": {
    "name": "ipython",
    "version": 3
   },
   "file_extension": ".py",
   "mimetype": "text/x-python",
   "name": "python",
   "nbconvert_exporter": "python",
   "pygments_lexer": "ipython3",
   "version": "3.8.5"
  }
 },
 "nbformat": 4,
 "nbformat_minor": 4
}
